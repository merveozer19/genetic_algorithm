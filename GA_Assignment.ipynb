{
  "nbformat": 4,
  "nbformat_minor": 0,
  "metadata": {
    "colab": {
      "name": "GA_Assignment.ipynb",
      "provenance": [],
      "collapsed_sections": []
    },
    "kernelspec": {
      "name": "python3",
      "display_name": "Python 3"
    },
    "language_info": {
      "name": "python"
    }
  },
  "cells": [
    {
      "cell_type": "code",
      "execution_count": null,
      "metadata": {
        "id": "wZrrFStFj6RC"
      },
      "outputs": [],
      "source": [
        "import numpy as np\n",
        "import math\n",
        "import random\n",
        "np.random.seed(1)"
      ]
    },
    {
      "cell_type": "markdown",
      "source": [
        "We start with an initial set of points in 𝛀 denoted P(0). We call P(0) the initial\n",
        "population. You can use **np.random.uniform** to generate points."
      ],
      "metadata": {
        "id": "AJFDU6VAE62Y"
      }
    },
    {
      "cell_type": "code",
      "source": [
        "def initialize_population(N, interval):\n",
        "\n",
        "    (None, None) = interval\n",
        "    P_0 = None # initial population with uniform distribution\n",
        "\n",
        "    return P_0"
      ],
      "metadata": {
        "id": "nishIJWCj-rS"
      },
      "execution_count": null,
      "outputs": []
    },
    {
      "cell_type": "code",
      "source": [
        "np.random.seed(2)\n",
        "N = 3\n",
        "interval = (1., 5.)\n",
        "\n",
        "P0 = initialize_population(N, interval)\n",
        "print(\"P0:\", P0)\n",
        "\n",
        "assert type(P0) == np.ndarray, \"Output must be a np.ndarray\"\n",
        "assert P0.shape == (3, 2), f\"Wrong shape for P0  {P0.shape} != (3, 2)\"\n",
        "assert np.isclose(np.mean(P0), 2.465072), \"Wrong value\""
      ],
      "metadata": {
        "id": "Hc-_1iMnFOu3"
      },
      "execution_count": null,
      "outputs": []
    },
    {
      "cell_type": "markdown",
      "source": [
        "**Expected Output:** \n",
        "\n",
        "<table> \n",
        "<tr> \n",
        "<td>\n",
        "\n",
        "**P(0) =**\n",
        "</td>\n",
        "\n",
        "<td>\n",
        "\n",
        "[[ 2.74397961 1.10370493] <br>\n",
        " [3.19864991  2.74128957] <br>\n",
        " [2.68147121 2.32133928 ]]\n",
        "\n",
        "  </td>\n",
        "</tr>\n",
        "\n",
        "<tr> \n",
        "<td>"
      ],
      "metadata": {
        "id": "7N0pKIvsFVxq"
      }
    },
    {
      "cell_type": "markdown",
      "source": [
        "## Evaluation"
      ],
      "metadata": {
        "id": "evGc4gYWFZtX"
      }
    },
    {
      "cell_type": "markdown",
      "source": [
        "We then evaluate the objective function at points in P(0). You can use **np.power**, **np.square**, **np.dot** operators."
      ],
      "metadata": {
        "id": "tJ1rw-4uFaYg"
      }
    },
    {
      "cell_type": "code",
      "source": [
        "def evaluate(x, y):\n",
        "\n",
        "    fitness = None\n",
        "\n",
        "    return fitness"
      ],
      "metadata": {
        "id": "h_9iBCCYkLh5"
      },
      "execution_count": null,
      "outputs": []
    },
    {
      "cell_type": "code",
      "source": [
        "x = -0.5\n",
        "y = 0.3\n",
        "fitness = evaluate(x, y)\n",
        "print(\"fitness: \", fitness)\n",
        "\n",
        "assert np.isclose(fitness, 0.5720983248977703), \"Wrong value\""
      ],
      "metadata": {
        "id": "1JCyBOtuFgaL"
      },
      "execution_count": null,
      "outputs": []
    },
    {
      "cell_type": "markdown",
      "source": [
        "## Selection"
      ],
      "metadata": {
        "id": "cd0ufrWQFktr"
      }
    },
    {
      "cell_type": "markdown",
      "source": [
        "In the first stage, we apply an operation called selection where we form a set M(k)\n",
        "**with the same number of elements as P(k)**. This number is called the population\n",
        "size, which we denote by **N**. The set M(k), called the mating pool, is formed from\n",
        "the population. Whereas some chromosomes may exist multiple times, some chromosomes may not be included in the mating pool."
      ],
      "metadata": {
        "id": "HxFib7KLFm2w"
      }
    },
    {
      "cell_type": "markdown",
      "source": [
        "### Roulette Wheel Selection"
      ],
      "metadata": {
        "id": "5BiQvToFFqJA"
      }
    },
    {
      "cell_type": "markdown",
      "source": [
        "Imagine a roulette wheel whose slots represents each chromosome in the population. The area of slots that each chromosome has is proportional to the fitness value of that chromosome. We spin the wheel N times and at each time we select a chromosome to put into the mating pool. Chromosomes that have higher fitness value is more likely to be chosen. \\\\\n",
        "Since the roulette wheel selection does not work for negative fitness values, we subtract the minimum of fitness values from all fitness values in order to be sure that they are positive. First we calculate the fitness values of each chromosome in the population. According to these fitness values, we calculate probability of each chromosome by using the formula in the book. Then, We take the cumulative sum of these probabilities and select the chromosome that has nearest cumulative probability to the randomly created probability value. \\\\\n",
        "\n",
        "You can use **np.zeros, np.min, np.sum, np.cumsum, np.argwhere** operators."
      ],
      "metadata": {
        "id": "58Lr6x3xFson"
      }
    },
    {
      "cell_type": "code",
      "source": [
        "def roulette_wheel_selection(population):\n",
        "    \n",
        "    x, y = None # take x and y points from the population\n",
        " \n",
        "    fitness = None  # calculate the fitness values corresponding to each (x, y) point using the function above\n",
        "    fitness -= None # to be sure that all fitness values are positive\n",
        "    probabilities = None\n",
        "\n",
        "    cum_sum = None\n",
        "    N = None        # first dimension of the population\n",
        "\n",
        "    mating_pool = None # create an array with the same shape as population\n",
        "\n",
        "    for n in range(None):\n",
        "        indices = None   # find the indices of chromosomes that has cumulative probability greater than randomly generated number\n",
        "        mating_pool[n,:] = None   # select the chromosome that has nearest cumulative probability to \n",
        "                                  # the randomly created probability value from the population.\n",
        "    return mating_pool"
      ],
      "metadata": {
        "id": "fw6gZYDiFyqM"
      },
      "execution_count": null,
      "outputs": []
    },
    {
      "cell_type": "code",
      "source": [
        "population = np.array([[18, 2], [-3, 4], [12, 7], [-10, 15], [2, -5], [-3.2, -1.1]])\n",
        "\n",
        "M = roulette_wheel_selection(population)\n",
        "print(\"M: \", M)\n",
        "\n",
        "assert M.shape == population.shape, f\"Wrong shape for M  {M.shape} != (6, 2)\"\n",
        "assert np.isclose(np.mean(M), 3.166666), \"Wrong value\""
      ],
      "metadata": {
        "id": "V6m0aiBLF1MK"
      },
      "execution_count": null,
      "outputs": []
    },
    {
      "cell_type": "markdown",
      "source": [
        "### Tournament Selection"
      ],
      "metadata": {
        "id": "ml0iIIjJF32W"
      }
    },
    {
      "cell_type": "markdown",
      "source": [
        "In the tournament selection, we take two chromosomes randomly from the population and add the one that has higher fitness value (for maximization problem) to the mating pool. Repeat this procedure until the mating pool has N chromosomes. \\\\\n",
        "\n",
        "You can use **np.zeros, np.random.randint** operators."
      ],
      "metadata": {
        "id": "vHIYnif3F4wF"
      }
    },
    {
      "cell_type": "code",
      "source": [
        "def tournament_selection(population):\n",
        "\n",
        "    mating_pool = None\n",
        "    N = None\n",
        "\n",
        "    for n in range(None):\n",
        "        chromosome1 = population[np.random.randint(N), :]\n",
        "        chromosome2 = population[np.random.randint(N), :]\n",
        "        x1, y1 = chromosome1[0], chromosome1[1]\n",
        "        x2, y2 = chromosome2[0], chromosome2[1]\n",
        "        fitness1 = None\n",
        "        fitness2 = None\n",
        "        if fitness1 > fitness2:\n",
        "            mating_pool[n,:] = chromosome1\n",
        "        else:\n",
        "            mating_pool[n,:] = chromosome2\n",
        "\n",
        "    return mating_pool"
      ],
      "metadata": {
        "id": "dItvcxb3kX_y"
      },
      "execution_count": null,
      "outputs": []
    },
    {
      "cell_type": "code",
      "source": [
        "np.random.seed(4)\n",
        "\n",
        "population = np.array([[0.8, 2], [-3, 4], [12, 7], [-10, 15], [2, -5], [-3.2, -1.1]])\n",
        "\n",
        "M = tournament_selection(population)\n",
        "\n",
        "print(\"M: \", M)\n",
        "\n",
        "assert M.shape == population.shape, f\"Wrong shape for M  {M.shape} != (6, 2)\"\n",
        "assert np.isclose(np.mean(M), 2.116666), \"Wrong value\""
      ],
      "metadata": {
        "id": "9FuwODiTGEMK"
      },
      "execution_count": null,
      "outputs": []
    },
    {
      "cell_type": "code",
      "source": [
        "def selection(population, method):\n",
        "\n",
        "    if method == \"roulette wheel\":\n",
        "        mating_pool = None\n",
        "        \n",
        "    elif method == \"tournament\":\n",
        "        mating_pool = None\n",
        "        \n",
        "    return mating_pool"
      ],
      "metadata": {
        "id": "edz8xrkQk63k"
      },
      "execution_count": null,
      "outputs": []
    },
    {
      "cell_type": "code",
      "source": [
        "np.random.seed(42)\n",
        "\n",
        "for i in range(2):\n",
        "    if i == 0:\n",
        "        population = np.random.uniform(-6., 4., size=(6,2))\n",
        "        method = \"roulette wheel\"\n",
        "        M = selection(population, method)\n",
        "        \n",
        "        assert M.shape == population.shape, f\"Wrong shape for M  {M.shape} != (6, 2)\"\n",
        "        assert np.isclose(np.mean(M), 0.6174874), \"There is an error related to roulette wheel selection!\"\n",
        "    elif i == 1:\n",
        "        population = np.random.uniform(-3., 8., size=(5,2))\n",
        "        method == \"tournament\"\n",
        "        M = selection(population, method)\n",
        "\n",
        "        assert M.shape == population.shape, f\"Wrong shape for M  {M.shape} != (5, 2)\"\n",
        "        assert np.isclose(np.mean(M), 0.835189), \"There is an error related to tournament selection!\""
      ],
      "metadata": {
        "id": "YYIzGdeoGKaB"
      },
      "execution_count": null,
      "outputs": []
    },
    {
      "cell_type": "markdown",
      "source": [
        "## Evolution"
      ],
      "metadata": {
        "id": "ZXWLX-ZeGNHc"
      }
    },
    {
      "cell_type": "markdown",
      "source": [
        "Evolution has two stages: Crossover and Mutation. The purpose of the crossover and mutation operations is to create a new population with an average objective function\n",
        "value that is higher than the previous population."
      ],
      "metadata": {
        "id": "F3-aqfM5GODO"
      }
    },
    {
      "cell_type": "markdown",
      "source": [
        "### Crossover"
      ],
      "metadata": {
        "id": "UrryCoWmGTek"
      }
    },
    {
      "cell_type": "markdown",
      "source": [
        "Assume that we have convex optimization problem. So, the region that feasible points (= points satisfying all constraints of the problem) form will have a convex shape. If we draw a line between any two feasible points inside the convex region, all points on this line will be also included in that region. It comes from the definition of convex set. When we create offsprings from parents, we use convex function formula in the book in order to be sure that offsprings are also feasible (in other words, between [-3, 3]). \\\\\n",
        "You can use **np.random.rand, np.random.randint** operators."
      ],
      "metadata": {
        "id": "5wxayeaQGYMm"
      }
    },
    {
      "cell_type": "code",
      "source": [
        "def crossover(mating_pool, p_c):\n",
        "\n",
        "    N = None\n",
        "\n",
        "    for n in range(None):\n",
        "        # randomly chosen parents from the mating pool\n",
        "        ind1 = np.random.randint(N)\n",
        "        ind2 = np.random.randint(N)\n",
        "\n",
        "        parent1 = None  # take the first chromosome from the mating pool\n",
        "        parent2 = None  # take the second chromosome from the mating pool\n",
        "\n",
        "        if None:  # determine crossover is performed or not\n",
        "            # look for the formula in the book\n",
        "            alpha = None\n",
        "            \n",
        "            offspring1 = None \n",
        "            offspring2 = None\n",
        "\n",
        "            # we replace parent as their offspring\n",
        "            mating_pool[ind1,:] = None\n",
        "            mating_pool[ind2,:] = None   \n",
        "\n",
        "    return mating_pool"
      ],
      "metadata": {
        "id": "_fr1dhbjk-hN"
      },
      "execution_count": null,
      "outputs": []
    },
    {
      "cell_type": "code",
      "source": [
        "mating_pool = np.array([[0.8, 2], [-3, 0.4], [0.8, 2], [-3, 0.4], [0.8, 2]])\n",
        "p_c = 0.75\n",
        "\n",
        "M = crossover(mating_pool, p_c)\n",
        "\n",
        "assert M.shape == mating_pool.shape, f\"Wrong shape for M  {M.shape} != (5, 2)\"\n",
        "assert np.isclose(np.mean(M), 0.32), \"Wrong value\""
      ],
      "metadata": {
        "id": "L1NYJiQ9GdkQ"
      },
      "execution_count": null,
      "outputs": []
    },
    {
      "cell_type": "markdown",
      "source": [
        "### Mutation"
      ],
      "metadata": {
        "id": "-jCwjif1Gget"
      }
    },
    {
      "cell_type": "code",
      "source": [
        "def mutation(mating_pool, p_m, interval):\n",
        "\n",
        "    mutated_chromosom = mating_pool.copy()\n",
        "\n",
        "    N = None\n",
        "    (start, end) = None\n",
        "\n",
        "    for n in range(None):\n",
        "        if None:    # determine mutation is performed or not\n",
        "            # look for the formula in the book\n",
        "            alpha = None \n",
        "            w = None    # A random point in the feasible set omega\n",
        "            mutated_chromosom[n,:] = None\n",
        "\n",
        "    return mutated_chromosom"
      ],
      "metadata": {
        "id": "Zv3YTqwClPQp"
      },
      "execution_count": null,
      "outputs": []
    },
    {
      "cell_type": "code",
      "source": [
        "np.random.seed(7)\n",
        "mating_pool = np.random.uniform(-5., 5., size=(8,2))\n",
        "p_m = 0.2\n",
        "interval = (-5., 5.)\n",
        "\n",
        "M = mutation(mating_pool, p_m, interval)\n",
        "assert M.shape == mating_pool.shape, f\"Wrong shape for M  {M.shape} != (8, 2)\"\n",
        "assert np.isclose(np.mean(M), 0.443587234), \"Wrong value\""
      ],
      "metadata": {
        "id": "bj7vlZ-xGk0n"
      },
      "execution_count": null,
      "outputs": []
    },
    {
      "cell_type": "markdown",
      "source": [
        "## Merge all functions"
      ],
      "metadata": {
        "id": "zqMP8iSIGoOA"
      }
    },
    {
      "cell_type": "markdown",
      "source": [
        "You can use **np.max, np.argmax, np.abs** operators."
      ],
      "metadata": {
        "id": "Cstqm_9vLFa2"
      }
    },
    {
      "cell_type": "code",
      "source": [
        "def genetic_alg(N, step, interval, max_iter, p_c, p_m, tolerance, method):\n",
        "    \n",
        "    # initialize population with given size and dimension \n",
        "    P_k = None\n",
        "\n",
        "    best_so_far = 0 # It is set to 0 at the beginning\n",
        "    for iter in range(max_iter):\n",
        "\n",
        "        fitness = None # cost value\n",
        "        best_value = None # highest fitness value\n",
        "\n",
        "        if iter % step == 0: # if there is no recovery in the fitness value after each step, we stopped the algorithm\n",
        "            if None: # check the difference of the best value and the best so far value \n",
        "                break\n",
        "\n",
        "        if best_value > best_so_far: # if best value at that iteration is better (= higher for maximization problem, lower for minimization problem)\n",
        "            best_so_far = best_value # best so far (= incumbent) solution is updated.\n",
        "            best_solution = None # best solution corresponding to highest fitness value\n",
        "\n",
        "        M_k = None # select chromosomes for the mating pool\n",
        "\n",
        "        crossover_population = None  # crossover new population\n",
        "\n",
        "        P_k = None # mutated new population, P(k+1)\n",
        "\n",
        "    return best_solution, best_so_far, iter"
      ],
      "metadata": {
        "id": "U1qNg4_Zt8t2"
      },
      "execution_count": null,
      "outputs": []
    },
    {
      "cell_type": "markdown",
      "source": [
        "**Hyperparameters**"
      ],
      "metadata": {
        "id": "lpREZgbWG0yT"
      }
    },
    {
      "cell_type": "code",
      "source": [
        "N = 100 # population size\n",
        "maxiter = 1000\n",
        "step = 200\n",
        "k = 4 # number of pairs to be selected for crossover\n",
        "p_c = 2*k/N  # crossover probability\n",
        "p_m = 0.1    # mutation probability\n",
        "interval = (-3., 3.)\n",
        "tolerance = 1e-8\n",
        "method=\"tournament\" # selection method, the other alternative is \"roulette wheel\""
      ],
      "metadata": {
        "id": "lx__sWFhtdfC"
      },
      "execution_count": null,
      "outputs": []
    },
    {
      "cell_type": "code",
      "source": [
        "solution, cost_value, iteration = genetic_alg(N, step, interval, maxiter, p_c, p_m, tolerance, method)"
      ],
      "metadata": {
        "id": "BbJ0oZeVtYBf"
      },
      "execution_count": null,
      "outputs": []
    },
    {
      "cell_type": "code",
      "source": [
        "print(\"\\n The solution corresponding to the best cost value is\", solution)\n",
        "\n",
        "print(\"\\n The best cost value that the algorithm found is\", cost_value)\n",
        "\n",
        "print(\"\\n Algorithm stopped at iteration\", iteration)"
      ],
      "metadata": {
        "id": "KbiF9GnntYK2"
      },
      "execution_count": null,
      "outputs": []
    }
  ]
}